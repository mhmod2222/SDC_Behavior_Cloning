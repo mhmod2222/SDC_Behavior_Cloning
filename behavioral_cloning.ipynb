{
  "nbformat": 4,
  "nbformat_minor": 0,
  "metadata": {
    "colab": {
      "name": "behavioral_cloning.ipynb",
      "provenance": [],
      "collapsed_sections": [],
      "mount_file_id": "11vPNCBrebSbX3oAJSTwmN1jjlMluAeug",
      "authorship_tag": "ABX9TyPPk6CpYn6otxdIHXe7ZSvP",
      "include_colab_link": true
    },
    "kernelspec": {
      "name": "python3",
      "display_name": "Python 3"
    },
    "accelerator": "TPU"
  },
  "cells": [
    {
      "cell_type": "markdown",
      "metadata": {
        "id": "view-in-github",
        "colab_type": "text"
      },
      "source": [
        "<a href=\"https://colab.research.google.com/github/mhmod2222/SDC_Behavior_Cloning/blob/master/behavioral_cloning.ipynb\" target=\"_parent\"><img src=\"https://colab.research.google.com/assets/colab-badge.svg\" alt=\"Open In Colab\"/></a>"
      ]
    },
    {
      "cell_type": "code",
      "metadata": {
        "id": "yMBflfAufnix",
        "colab_type": "code",
        "colab": {}
      },
      "source": [
        "import os\n",
        "import numpy as np\n",
        "import matplotlib.pyplot as plt\n",
        "import matplotlib.image as mpimg\n",
        "import keras\n",
        "from keras.models import Sequential\n",
        "from keras.optimizers import Adam\n",
        "from keras.layers import Conv2D, MaxPooling2D, Dropout, Flatten, Dense\n",
        "import cv2\n",
        "import pandas as pd\n",
        "import ntpath\n",
        "import random\n",
        "from sklearn.utils import shuffle\n",
        "from sklearn.model_selection import train_test_split\n",
        "from imgaug import augmenters as iaa"
      ],
      "execution_count": 0,
      "outputs": []
    },
    {
      "cell_type": "code",
      "metadata": {
        "id": "hGDA7H0rLCJC",
        "colab_type": "code",
        "colab": {}
      },
      "source": [
        "#first mount google drive from the files sidebar on the left of google colab\n",
        "\n",
        "datadir = '/content/drive/My Drive/udacity simulator training'\n",
        "columns = ['center', 'left', 'right', 'steering', 'throttle', 'reverse', 'speed']\n",
        "data = pd.read_csv(os.path.join(datadir,'driving_log.csv'), names=columns)\n",
        "pd.set_option('display.max_colwidth', 400)\n",
        "data.head()"
      ],
      "execution_count": 0,
      "outputs": []
    },
    {
      "cell_type": "code",
      "metadata": {
        "id": "YT44GzPDM5HW",
        "colab_type": "code",
        "colab": {}
      },
      "source": [
        "data['center']= data['center'].str.split(\"\\\\\").str[-1]\n",
        "data['left']= data['left'].str.split(\"\\\\\").str[-1]\n",
        "data['right']= data['right'].str.split(\"\\\\\").str[-1]\n",
        "data.head()"
      ],
      "execution_count": 0,
      "outputs": []
    },
    {
      "cell_type": "code",
      "metadata": {
        "id": "NIs-QKvTS_C4",
        "colab_type": "code",
        "colab": {}
      },
      "source": [
        "num_bins = 25\n",
        "samples_per_bin = 200\n",
        "hist, bins = np.histogram(data['steering'], num_bins)\n",
        "center = (bins[:-1]+bins[1:]) * 0.5\n",
        "plt.bar(center, hist, width=0.05)\n",
        "plt.plot((np.min(data['steering']), np.max(data['steering'])), (samples_per_bin, samples_per_bin))"
      ],
      "execution_count": 0,
      "outputs": []
    },
    {
      "cell_type": "code",
      "metadata": {
        "id": "F10XOJ7bfWh_",
        "colab_type": "code",
        "colab": {}
      },
      "source": [
        "print(\"total data\", len(data))\n",
        "remove_list = []\n",
        "for j in range(num_bins):\n",
        "  list_ = []\n",
        "  for i in range(len(data['steering'])):\n",
        "    if data['steering'][i] >= bins[j] and data['steering'][i] <= bins[j+1]:\n",
        "      list_.append(i)\n",
        "  list_ = shuffle(list_)\n",
        "  list_ = list_[samples_per_bin:]\n",
        "  remove_list.extend(list_)\n",
        "print(\"removed\", len(remove_list))\n",
        "data.drop(data.index[remove_list], inplace=True)\n",
        "print(\"remaining\", len(data))\n",
        "\n",
        "hist, _ = np.histogram(data['steering'], num_bins)\n",
        "plt.bar(center, hist, width=0.05)\n",
        "plt.plot((np.min(data['steering']), np.max(data['steering'])), (samples_per_bin, samples_per_bin))"
      ],
      "execution_count": 0,
      "outputs": []
    },
    {
      "cell_type": "code",
      "metadata": {
        "id": "uKsW0wZEjwGO",
        "colab_type": "code",
        "colab": {}
      },
      "source": [
        "#print(data.iloc[1])\n",
        "def load_img_Steering(datadir, data):\n",
        "  image_path = []\n",
        "  steering = []\n",
        "  for i in range(len(data)):\n",
        "    indexed_data = data.iloc[i]\n",
        "    center, left, right = indexed_data[0], indexed_data[1], indexed_data[2]\n",
        "    image_path.append(os.path.join(datadir, center.strip()))\n",
        "    steering.append(float(indexed_data[3]))\n",
        "  image_paths = np.asarray(image_path)\n",
        "  steerings = np.asarray(steering)\n",
        "  return image_paths, steerings\n",
        "\n",
        "image_paths, steerings = load_img_Steering(datadir + '/IMG', data)"
      ],
      "execution_count": 0,
      "outputs": []
    },
    {
      "cell_type": "code",
      "metadata": {
        "id": "aPj6TFFWnhlS",
        "colab_type": "code",
        "colab": {}
      },
      "source": [
        "x_train, x_valid, y_train, y_valid = train_test_split(image_paths, steerings, test_size=0.2, random_state=2)\n",
        "print('Training Samples: {}\\nValid Samples: {}'.format(len(x_train), len(x_valid)))"
      ],
      "execution_count": 0,
      "outputs": []
    },
    {
      "cell_type": "code",
      "metadata": {
        "id": "h1LZ_7vcqV2J",
        "colab_type": "code",
        "colab": {}
      },
      "source": [
        "fig, axes = plt.subplots(1, 2, figsize=(12,4))\n",
        "axes[0].hist(y_train, bins=num_bins, width = 0.05, color='blue')\n",
        "axes[0].set_title('Training set')\n",
        "axes[1].hist(y_valid, bins=num_bins, width = 0.05, color='red')\n",
        "axes[1].set_title('Validation set')"
      ],
      "execution_count": 0,
      "outputs": []
    },
    {
      "cell_type": "code",
      "metadata": {
        "id": "WDzRetUci6lO",
        "colab_type": "code",
        "colab": {}
      },
      "source": [
        "def zoom(image):\n",
        "  zoom = iaa.Affine(scale=(1, 1.3))\n",
        "  image = zoom.augment_image(image)\n",
        "  return image"
      ],
      "execution_count": 0,
      "outputs": []
    },
    {
      "cell_type": "code",
      "metadata": {
        "id": "ybdpLVxtjfVe",
        "colab_type": "code",
        "colab": {}
      },
      "source": [
        "image = image_paths[random.randint(0, 1000)]\n",
        "original_image = mpimg.imread(image)\n",
        "zoomed_image = zoom(original_image)\n",
        "\n",
        "fig, axs = plt.subplots(1, 2, figsize=(15, 10))\n",
        "fig.tight_layout()\n",
        "\n",
        "axs[0].imshow(original_image)\n",
        "axs[0].set_title('Orignial Image')\n",
        "\n",
        "axs[1].imshow(zoomed_image)\n",
        "axs[1].set_title('Zoomed Image')"
      ],
      "execution_count": 0,
      "outputs": []
    },
    {
      "cell_type": "code",
      "metadata": {
        "id": "DoGAJ19ElKf8",
        "colab_type": "code",
        "colab": {}
      },
      "source": [
        "def pan(image):\n",
        "  pan = iaa.Affine(translate_percent={\"x\": (-0.1, 0.1), \"y\": (-0.1, 0.1)})\n",
        "  image = pan.augment_image(image)\n",
        "  return image"
      ],
      "execution_count": 0,
      "outputs": []
    },
    {
      "cell_type": "code",
      "metadata": {
        "id": "APiWJjprql4F",
        "colab_type": "code",
        "colab": {}
      },
      "source": [
        "image = image_paths[random.randint(0, 1000)]\n",
        "original_image = mpimg.imread(image)\n",
        "panned_image = pan(original_image)\n",
        "\n",
        "fig, axs = plt.subplots(1, 2, figsize=(15, 10))\n",
        "fig.tight_layout()\n",
        "\n",
        "axs[0].imshow(original_image)\n",
        "axs[0].set_title('Orignial Image')\n",
        "\n",
        "axs[1].imshow(panned_image)\n",
        "axs[1].set_title('Panned Image')"
      ],
      "execution_count": 0,
      "outputs": []
    },
    {
      "cell_type": "code",
      "metadata": {
        "id": "XcCaf-TZrfqi",
        "colab_type": "code",
        "colab": {}
      },
      "source": [
        "def img_random_brightness(image):\n",
        "  brightness = iaa.Multiply((0.2, 1.2))\n",
        "  image = brightness.augment_image(image)\n",
        "  return image"
      ],
      "execution_count": 0,
      "outputs": []
    },
    {
      "cell_type": "code",
      "metadata": {
        "id": "0gAy-HwAsBRB",
        "colab_type": "code",
        "colab": {}
      },
      "source": [
        "image = image_paths[random.randint(0, 1000)]\n",
        "original_image = mpimg.imread(image)\n",
        "brightness_altered_image = img_random_brightness(original_image)\n",
        "\n",
        "fig, axs = plt.subplots(1, 2, figsize=(15, 10))\n",
        "fig.tight_layout()\n",
        "\n",
        "axs[0].imshow(original_image)\n",
        "axs[0].set_title('Orignial Image')\n",
        "\n",
        "axs[1].imshow(brightness_altered_image)\n",
        "axs[1].set_title('Brightness altered Image')"
      ],
      "execution_count": 0,
      "outputs": []
    },
    {
      "cell_type": "code",
      "metadata": {
        "id": "9P42v41lsrb8",
        "colab_type": "code",
        "colab": {}
      },
      "source": [
        "def img_random_flip(image, steering_angle):\n",
        "  image = cv2.flip(image, 1) # horizontal flip\n",
        "  steering_angle = -steering_angle\n",
        "  return image, steering_angle"
      ],
      "execution_count": 0,
      "outputs": []
    },
    {
      "cell_type": "code",
      "metadata": {
        "id": "HrCyK6fgtSNn",
        "colab_type": "code",
        "colab": {}
      },
      "source": [
        "random_index = random.randint(0, 1000)\n",
        "image = image_paths[random_index]\n",
        "steering_angle = steerings[random_index]\n",
        "\n",
        "original_image = mpimg.imread(image)\n",
        "flipped_image, flipped_steering_angle = img_random_flip(original_image, steering_angle)\n",
        "\n",
        "fig, axs = plt.subplots(1, 2, figsize=(15, 10))\n",
        "fig.tight_layout()\n",
        "\n",
        "axs[0].imshow(original_image)\n",
        "axs[0].set_title('Orignial Image - ' + 'Steering Angle:' + str(steering_angle))\n",
        "\n",
        "axs[1].imshow(flipped_image)\n",
        "axs[1].set_title('Flipped Image - ' + 'Steering Angle:' + str(flipped_steering_angle))"
      ],
      "execution_count": 0,
      "outputs": []
    },
    {
      "cell_type": "code",
      "metadata": {
        "id": "0WQOnikpufoP",
        "colab_type": "code",
        "colab": {}
      },
      "source": [
        "def random_augment(image, steering_angle):\n",
        "  image = mpimg.imread(image)\n",
        "  if np.random.rand() < 0.5:\n",
        "    image = pan(image)\n",
        "  if np.random.rand() < 0.5:\n",
        "    image = zoom(image)\n",
        "  if np.random.rand() < 0.5:\n",
        "    image = img_random_brightness(image)\n",
        "  if np.random.rand() < 0.5:\n",
        "    image, steering_angle = img_random_flip(image, steering_angle)\n",
        "  return image, steering_angle"
      ],
      "execution_count": 0,
      "outputs": []
    },
    {
      "cell_type": "code",
      "metadata": {
        "id": "WbwmaWjmvY31",
        "colab_type": "code",
        "colab": {}
      },
      "source": [
        "ncol = 2\n",
        "nrow = 10\n",
        "fig, axs = plt.subplots(nrow, ncol, figsize = (15, 50))\n",
        "fig.tight_layout()\n",
        "\n",
        "for i in range(10):\n",
        "  randnum = random.randint(0, len(image_paths)-1)\n",
        "\n",
        "  random_image = image_paths[randnum]\n",
        "  random_steering = steerings[randnum]\n",
        "\n",
        "  original_image = mpimg.imread(random_image)\n",
        "  augmented_image, steering = random_augment(random_image, random_steering)\n",
        "\n",
        "  axs[i][0].imshow(original_image)\n",
        "  axs[i][0].set_title('Original Image')\n",
        "\n",
        "  axs[i][1].imshow(augmented_image)\n",
        "  axs[i][1].set_title('Augmented Image')"
      ],
      "execution_count": 0,
      "outputs": []
    },
    {
      "cell_type": "code",
      "metadata": {
        "id": "K-1wG-z0rBfx",
        "colab_type": "code",
        "colab": {}
      },
      "source": [
        "def img_preprocess(img):\n",
        "  #img = mpimg.imread(img) # use this line only with cell number 24: x_train, x_valid, and comment it when used with other cells not to get errors\n",
        "  img = img[60:135, :, :]\n",
        "  img = cv2.cvtColor(img, cv2.COLOR_RGB2YUV)\n",
        "  img = cv2.GaussianBlur(img, (3, 3), 0)\n",
        "  img = cv2.resize(img, (200,66))\n",
        "  img = img/255\n",
        "  return img"
      ],
      "execution_count": 0,
      "outputs": []
    },
    {
      "cell_type": "code",
      "metadata": {
        "id": "_Vlq3TdssYEO",
        "colab_type": "code",
        "colab": {}
      },
      "source": [
        "# you can do multi line commenting by using keyboard shortcut Ctrl+/\n",
        "image = image_paths[100]\n",
        "original_image = mpimg.imread(image)\n",
        "preprocessed_image = img_preprocess(original_image)\n",
        "fig, axs = plt.subplots(1,2, figsize=(15,10))\n",
        "fig.tight_layout()\n",
        "axs[0].imshow(original_image)\n",
        "axs[0].set_title('Original Image')\n",
        "axs[0].grid(color='white')\n",
        "axs[1].imshow(preprocessed_image)\n",
        "axs[1].set_title('Preprocessed Image')\n",
        "axs[1].grid(color='white')"
      ],
      "execution_count": 0,
      "outputs": []
    },
    {
      "cell_type": "code",
      "metadata": {
        "id": "YYJnnSUz0vEJ",
        "colab_type": "code",
        "colab": {}
      },
      "source": [
        "def batch_generator(image_paths, steering_ang, batch_size, istraining):\n",
        "\n",
        "  while True:\n",
        "    batch_img = []\n",
        "    batch_steering = []\n",
        "\n",
        "    for i in range(batch_size):\n",
        "      random_index = random.randint(0, len(image_paths)-1)\n",
        "\n",
        "      if istraining: # training data\n",
        "        im, steering = random_augment(image_paths[random_index], steering_ang[random_index])\n",
        "      else: # validation data\n",
        "        im = mpimg.imread(image_paths[random_index])\n",
        "        steering = steering_ang[random_index]\n",
        "\n",
        "      im = img_preprocess(im)\n",
        "      batch_img.append(im)\n",
        "      batch_steering.append(steering)\n",
        "    yield (np.asarray(batch_img), np.asarray(batch_steering))"
      ],
      "execution_count": 0,
      "outputs": []
    },
    {
      "cell_type": "code",
      "metadata": {
        "id": "TzSK7Aew4_kO",
        "colab_type": "code",
        "colab": {}
      },
      "source": [
        "x_train_gen, y_train_gen = next(batch_generator(x_train, y_train, 1, 1))\n",
        "x_valid_gen, y_valid_gen = next(batch_generator(x_valid, y_valid, 1, 0))\n",
        "\n",
        "fig, axs = plt.subplots(1, 2, figsize=(15, 10))\n",
        "fig.tight_layout()\n",
        "\n",
        "axs[0].imshow(x_train_gen[0])\n",
        "axs[0].set_title('Training Image')\n",
        "\n",
        "axs[1].imshow(x_valid_gen[0])\n",
        "axs[1].set_title('Validation Image')"
      ],
      "execution_count": 0,
      "outputs": []
    },
    {
      "cell_type": "code",
      "metadata": {
        "id": "_QAkVRC1tJDy",
        "colab_type": "code",
        "colab": {}
      },
      "source": [
        "#x_train = np.array(list(map(img_preprocess, x_train)))\n",
        "#x_valid = np.array(list(map(img_preprocess, x_valid)))"
      ],
      "execution_count": 0,
      "outputs": []
    },
    {
      "cell_type": "code",
      "metadata": {
        "id": "SyD-E9XswZux",
        "colab_type": "code",
        "colab": {}
      },
      "source": [
        "#plt.imshow(x_train[random.randint(0,len(x_train)-1)])\n",
        "#plt.axis('off')\n",
        "#print(x_train.shape)"
      ],
      "execution_count": 0,
      "outputs": []
    },
    {
      "cell_type": "code",
      "metadata": {
        "id": "64Z2ks9UwzgF",
        "colab_type": "code",
        "colab": {}
      },
      "source": [
        "def nvidia_model():\n",
        "  model = Sequential()\n",
        "  model.add(Conv2D(24, (5, 5), strides=(2, 2), input_shape=(66,200,3), activation='elu'))\n",
        "  model.add(Conv2D(36, (5, 5), strides=(2, 2), activation = 'elu'))\n",
        "  model.add(Conv2D(48, (5, 5), strides=(2, 2), activation = 'elu'))\n",
        "  model.add(Conv2D(64, (3, 3), activation = 'elu'))\n",
        "\n",
        "  model.add(Conv2D(64, (3, 3), activation = 'elu'))\n",
        "  model.add(Dropout(0.5))\n",
        "\n",
        "  model.add(Flatten())\n",
        "\n",
        "  model.add(Dense(100 , activation = 'elu'))\n",
        "  #model.add(Dropout(0.5))\n",
        "\n",
        "  model.add(Dense(50, activation = 'elu'))\n",
        "  #model.add(Dropout(0.5))\n",
        "\n",
        "  model.add(Dense(10, activation = 'elu'))\n",
        "  #model.add(Dropout(0.5))\n",
        "  \n",
        "  model.add(Dense(1))\n",
        "  \n",
        "  optimizer = Adam(lr=1e-3)\n",
        "  model.compile(loss='mse', optimizer=optimizer)\n",
        "  return model\n"
      ],
      "execution_count": 0,
      "outputs": []
    },
    {
      "cell_type": "code",
      "metadata": {
        "id": "qOY5XMiS-ubf",
        "colab_type": "code",
        "colab": {}
      },
      "source": [
        "model = nvidia_model()\n",
        "print(model.summary())"
      ],
      "execution_count": 0,
      "outputs": []
    },
    {
      "cell_type": "code",
      "metadata": {
        "id": "HjEvxltICFwZ",
        "colab_type": "code",
        "outputId": "c6ac9b5a-fb68-419c-f844-a3864d54df87",
        "colab": {
          "base_uri": "https://localhost:8080/",
          "height": 638
        }
      },
      "source": [
        "history = model.fit_generator(batch_generator(x_train, y_train, 100, 1), \n",
        "                                  steps_per_epoch=300, \n",
        "                                  epochs=20, \n",
        "                                  validation_data = batch_generator(x_valid, y_valid, 100, 0), validation_steps=200, \n",
        "                                  verbose=1, \n",
        "                                  shuffle=1)"
      ],
      "execution_count": 0,
      "outputs": [
        {
          "output_type": "stream",
          "text": [
            "300/300 [==============================] - 574s 2s/step - loss: 0.0998 - val_loss: 0.0569\n",
            "Epoch 3/20\n",
            "300/300 [==============================] - 569s 2s/step - loss: 0.0887 - val_loss: 0.0447\n",
            "Epoch 4/20\n",
            "300/300 [==============================] - 574s 2s/step - loss: 0.0840 - val_loss: 0.0588\n",
            "Epoch 5/20\n",
            "300/300 [==============================] - 576s 2s/step - loss: 0.0782 - val_loss: 0.0913\n",
            "Epoch 6/20\n",
            "300/300 [==============================] - 572s 2s/step - loss: 0.0766 - val_loss: 0.0396\n",
            "Epoch 7/20\n",
            "300/300 [==============================] - 569s 2s/step - loss: 0.0745 - val_loss: 0.0420\n",
            "Epoch 8/20\n",
            "300/300 [==============================] - 566s 2s/step - loss: 0.0742 - val_loss: 0.0387\n",
            "Epoch 9/20\n",
            "300/300 [==============================] - 572s 2s/step - loss: 0.0682 - val_loss: 0.0564\n",
            "Epoch 10/20\n",
            "300/300 [==============================] - 572s 2s/step - loss: 0.0681 - val_loss: 0.0346\n",
            "Epoch 11/20\n",
            "300/300 [==============================] - 576s 2s/step - loss: 0.0637 - val_loss: 0.0457\n",
            "Epoch 12/20\n",
            "300/300 [==============================] - 573s 2s/step - loss: 0.0643 - val_loss: 0.0404\n",
            "Epoch 13/20\n",
            "300/300 [==============================] - 570s 2s/step - loss: 0.0604 - val_loss: 0.0333\n",
            "Epoch 14/20\n",
            "300/300 [==============================] - 569s 2s/step - loss: 0.0586 - val_loss: 0.0434\n",
            "Epoch 15/20\n",
            "300/300 [==============================] - 568s 2s/step - loss: 0.0602 - val_loss: 0.0587\n",
            "Epoch 16/20\n",
            "300/300 [==============================] - 565s 2s/step - loss: 0.0573 - val_loss: 0.0351\n",
            "Epoch 17/20\n",
            "300/300 [==============================] - 573s 2s/step - loss: 0.0521 - val_loss: 0.0422\n",
            "Epoch 18/20\n",
            "300/300 [==============================] - 565s 2s/step - loss: 0.0546 - val_loss: 0.0256\n",
            "Epoch 19/20\n",
            "300/300 [==============================] - 570s 2s/step - loss: 0.0499 - val_loss: 0.0322\n",
            "Epoch 20/20\n",
            "300/300 [==============================] - 569s 2s/step - loss: 0.0527 - val_loss: 0.0483\n"
          ],
          "name": "stdout"
        }
      ]
    },
    {
      "cell_type": "code",
      "metadata": {
        "id": "RByGn7GGE1c4",
        "colab_type": "code",
        "outputId": "0125279f-9202-4e26-dc39-8b10519e9971",
        "colab": {
          "base_uri": "https://localhost:8080/",
          "height": 312
        }
      },
      "source": [
        "plt.plot(history.history['loss'])\n",
        "plt.plot(history.history['val_loss'])\n",
        "plt.legend(['training', 'validation'])\n",
        "plt.title('Loss')\n",
        "plt.xlabel('Epoch')"
      ],
      "execution_count": 0,
      "outputs": [
        {
          "output_type": "execute_result",
          "data": {
            "text/plain": [
              "Text(0.5, 0, 'Epoch')"
            ]
          },
          "metadata": {
            "tags": []
          },
          "execution_count": 28
        },
        {
          "output_type": "display_data",
          "data": {
            "image/png": "[encoded data removed]",
            "text/plain": [
              "<Figure size 432x288 with 1 Axes>"
            ]
          },
          "metadata": {
            "tags": [],
            "needs_background": "light"
          }
        }
      ]
    },
    {
      "cell_type": "code",
      "metadata": {
        "id": "gYrtx6VMFOBP",
        "colab_type": "code",
        "colab": {}
      },
      "source": [
        "model.save('model.h5')"
      ],
      "execution_count": 0,
      "outputs": []
    },
    {
      "cell_type": "code",
      "metadata": {
        "id": "Npfiui7XGVoQ",
        "colab_type": "code",
        "colab": {}
      },
      "source": [
        "from google.colab import files\n",
        "files.download('model.h5')"
      ],
      "execution_count": 0,
      "outputs": []
    }
  ]
}